{
 "cells": [
  {
   "cell_type": "code",
   "execution_count": 1,
   "metadata": {},
   "outputs": [],
   "source": [
    "import pandas as pd"
   ]
  },
  {
   "cell_type": "code",
   "execution_count": 2,
   "metadata": {},
   "outputs": [
    {
     "data": {
      "text/html": [
       "<div>\n",
       "<style scoped>\n",
       "    .dataframe tbody tr th:only-of-type {\n",
       "        vertical-align: middle;\n",
       "    }\n",
       "\n",
       "    .dataframe tbody tr th {\n",
       "        vertical-align: top;\n",
       "    }\n",
       "\n",
       "    .dataframe thead th {\n",
       "        text-align: right;\n",
       "    }\n",
       "</style>\n",
       "<table border=\"1\" class=\"dataframe\">\n",
       "  <thead>\n",
       "    <tr style=\"text-align: right;\">\n",
       "      <th></th>\n",
       "      <th>ID</th>\n",
       "      <th>Sentence</th>\n",
       "    </tr>\n",
       "  </thead>\n",
       "  <tbody>\n",
       "    <tr>\n",
       "      <th>0</th>\n",
       "      <td>0</td>\n",
       "      <td>sınıf , havuz ve açık deniz çalışmalarıyla , t...</td>\n",
       "    </tr>\n",
       "    <tr>\n",
       "      <th>1</th>\n",
       "      <td>1</td>\n",
       "      <td>bu standart , sualtında kendini rahat hisseden...</td>\n",
       "    </tr>\n",
       "    <tr>\n",
       "      <th>2</th>\n",
       "      <td>2</td>\n",
       "      <td>yapılan araştırmalar , öğrencilerin mevcut dal...</td>\n",
       "    </tr>\n",
       "    <tr>\n",
       "      <th>3</th>\n",
       "      <td>3</td>\n",
       "      <td>pdıc öğrencilerinde , psikolojik eğitim ve yet...</td>\n",
       "    </tr>\n",
       "    <tr>\n",
       "      <th>4</th>\n",
       "      <td>4</td>\n",
       "      <td>pdıc eğitiminin sağladığı güven ve rahatlık , ...</td>\n",
       "    </tr>\n",
       "  </tbody>\n",
       "</table>\n",
       "</div>"
      ],
      "text/plain": [
       "   ID                                           Sentence\n",
       "0   0  sınıf , havuz ve açık deniz çalışmalarıyla , t...\n",
       "1   1  bu standart , sualtında kendini rahat hisseden...\n",
       "2   2  yapılan araştırmalar , öğrencilerin mevcut dal...\n",
       "3   3  pdıc öğrencilerinde , psikolojik eğitim ve yet...\n",
       "4   4  pdıc eğitiminin sağladığı güven ve rahatlık , ..."
      ]
     },
     "execution_count": 2,
     "metadata": {},
     "output_type": "execute_result"
    }
   ],
   "source": [
    "#Reading the training file\n",
    "df = pd.read_csv(\"data/train.csv\")\n",
    "df.head()"
   ]
  },
  {
   "cell_type": "code",
   "execution_count": 3,
   "metadata": {},
   "outputs": [],
   "source": [
    "wrongs = []\n",
    "\n",
    "def making_wrong(sentence):\n",
    "    #   Creating a dictionary for swapping Turkish chars with their non-Turkish pairs\n",
    "    character_map = {'ı': 'i', 'ö': 'o', 'ü': 'u', 'ğ': 'g', 'ş': 's', 'ç': 'c', 'İ': 'I', 'Ö': 'O', 'Ü': 'U', 'Ğ': 'G', 'Ş': 'S', 'Ç': 'C'}\n",
    "    \n",
    "    # Using the dict above, replacing the Turkish chars\n",
    "    for dialect, standard in character_map.items():\n",
    "        sentence = sentence.replace(dialect, standard)\n",
    "    return sentence\n"
   ]
  },
  {
   "cell_type": "code",
   "execution_count": 4,
   "metadata": {},
   "outputs": [],
   "source": [
    "# Using the function above, convert all sentences in the training data to wrong phase\n",
    "for sentence in df[\"Sentence\"]:\n",
    "    wrong = making_wrong(sentence)\n",
    "    wrongs.append(wrong)\n",
    "\n",
    "df[\"Wrong\"] = wrongs"
   ]
  },
  {
   "cell_type": "code",
   "execution_count": 5,
   "metadata": {},
   "outputs": [],
   "source": [
    "#Renaming the columns so that it is easier to understand\n",
    "df.columns = [\"ID\", \"Correct\", \"Wrong\"]\n"
   ]
  },
  {
   "cell_type": "code",
   "execution_count": 6,
   "metadata": {},
   "outputs": [
    {
     "data": {
      "text/html": [
       "<div>\n",
       "<style scoped>\n",
       "    .dataframe tbody tr th:only-of-type {\n",
       "        vertical-align: middle;\n",
       "    }\n",
       "\n",
       "    .dataframe tbody tr th {\n",
       "        vertical-align: top;\n",
       "    }\n",
       "\n",
       "    .dataframe thead th {\n",
       "        text-align: right;\n",
       "    }\n",
       "</style>\n",
       "<table border=\"1\" class=\"dataframe\">\n",
       "  <thead>\n",
       "    <tr style=\"text-align: right;\">\n",
       "      <th></th>\n",
       "      <th>ID</th>\n",
       "      <th>Correct</th>\n",
       "      <th>Wrong</th>\n",
       "    </tr>\n",
       "  </thead>\n",
       "  <tbody>\n",
       "    <tr>\n",
       "      <th>0</th>\n",
       "      <td>0</td>\n",
       "      <td>sınıf , havuz ve açık deniz çalışmalarıyla , t...</td>\n",
       "      <td>sinif , havuz ve acik deniz calismalariyla , t...</td>\n",
       "    </tr>\n",
       "    <tr>\n",
       "      <th>1</th>\n",
       "      <td>1</td>\n",
       "      <td>bu standart , sualtında kendini rahat hisseden...</td>\n",
       "      <td>bu standart , sualtinda kendini rahat hisseden...</td>\n",
       "    </tr>\n",
       "    <tr>\n",
       "      <th>2</th>\n",
       "      <td>2</td>\n",
       "      <td>yapılan araştırmalar , öğrencilerin mevcut dal...</td>\n",
       "      <td>yapilan arastirmalar , ogrencilerin mevcut dal...</td>\n",
       "    </tr>\n",
       "    <tr>\n",
       "      <th>3</th>\n",
       "      <td>3</td>\n",
       "      <td>pdıc öğrencilerinde , psikolojik eğitim ve yet...</td>\n",
       "      <td>pdic ogrencilerinde , psikolojik egitim ve yet...</td>\n",
       "    </tr>\n",
       "    <tr>\n",
       "      <th>4</th>\n",
       "      <td>4</td>\n",
       "      <td>pdıc eğitiminin sağladığı güven ve rahatlık , ...</td>\n",
       "      <td>pdic egitiminin sagladigi guven ve rahatlik , ...</td>\n",
       "    </tr>\n",
       "  </tbody>\n",
       "</table>\n",
       "</div>"
      ],
      "text/plain": [
       "   ID                                            Correct  \\\n",
       "0   0  sınıf , havuz ve açık deniz çalışmalarıyla , t...   \n",
       "1   1  bu standart , sualtında kendini rahat hisseden...   \n",
       "2   2  yapılan araştırmalar , öğrencilerin mevcut dal...   \n",
       "3   3  pdıc öğrencilerinde , psikolojik eğitim ve yet...   \n",
       "4   4  pdıc eğitiminin sağladığı güven ve rahatlık , ...   \n",
       "\n",
       "                                               Wrong  \n",
       "0  sinif , havuz ve acik deniz calismalariyla , t...  \n",
       "1  bu standart , sualtinda kendini rahat hisseden...  \n",
       "2  yapilan arastirmalar , ogrencilerin mevcut dal...  \n",
       "3  pdic ogrencilerinde , psikolojik egitim ve yet...  \n",
       "4  pdic egitiminin sagladigi guven ve rahatlik , ...  "
      ]
     },
     "execution_count": 6,
     "metadata": {},
     "output_type": "execute_result"
    }
   ],
   "source": [
    "df.head()"
   ]
  },
  {
   "cell_type": "code",
   "execution_count": 8,
   "metadata": {},
   "outputs": [],
   "source": [
    "#Saving the Correct and Wrong sentences in 'txt' file format to be used in training.\n",
    "\n",
    "correct_file = \"data/correct.txt\"\n",
    "wrong_file = \"data/wrong.txt\"\n",
    "\n",
    "with open(correct_file, 'w', encoding='utf-8') as cf:\n",
    "    for index, row in df.iterrows():\n",
    "        cf.write(row['Correct'] + '\\n')\n",
    "\n",
    "with open(wrong_file, 'w', encoding='utf-8') as cf:\n",
    "    for index, row in df.iterrows():\n",
    "        cf.write(row['Wrong'] + '\\n')\n"
   ]
  }
 ],
 "metadata": {
  "kernelspec": {
   "display_name": "Python 3",
   "language": "python",
   "name": "python3"
  },
  "language_info": {
   "codemirror_mode": {
    "name": "ipython",
    "version": 3
   },
   "file_extension": ".py",
   "mimetype": "text/x-python",
   "name": "python",
   "nbconvert_exporter": "python",
   "pygments_lexer": "ipython3",
   "version": "3.11.5"
  }
 },
 "nbformat": 4,
 "nbformat_minor": 2
}
